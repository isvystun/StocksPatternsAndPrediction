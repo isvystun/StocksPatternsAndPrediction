{
 "cells": [
  {
   "cell_type": "code",
   "execution_count": 1,
   "metadata": {},
   "outputs": [],
   "source": [
    "import yfinance\n",
    "import stock_utils\n",
    "import pandas as pd\n",
    "import numpy as np\n",
    "\n",
    "from bar import Bar"
   ]
  },
  {
   "cell_type": "code",
   "execution_count": 2,
   "metadata": {},
   "outputs": [
    {
     "name": "stdout",
     "output_type": "stream",
     "text": [
      "Fetched 549 tickers\n"
     ]
    }
   ],
   "source": [
    "# fetching liquit tickers, vol > 4M\n",
    "tickers = stock_utils.fetch_liquid_stocks(vol=2_000_000, min_price=2)\n",
    "print(f\"Fetched {len(tickers)} tickers\")"
   ]
  },
  {
   "cell_type": "code",
   "execution_count": 3,
   "metadata": {},
   "outputs": [
    {
     "data": {
      "text/plain": [
       "'ACTT,AYR,AMTD,GDI,BPR,LPT,VSLR,ARQL,MDCO,MNTA,PEGI,STML,ERI,HABT,WLH,VTIQ,CY,CSFL,LVGO,CTL,APY,LM,UTX,ZAYO,CAR,MYL,NBL,RARX,AGN,GMHI,FSB,MYOK,AMAG,BWMC,ADSW,PKD,FMCI,AOBC,FII,TLRA,SNH,WBC,DERM,WTR,AVX,GRAF,FSCT,BOLD,HIIQ,IOTS,TRNE,EROS,DRAD,PDLI,GCAP,RUBI,CHK,PE,REAL'"
      ]
     },
     "execution_count": 3,
     "metadata": {},
     "output_type": "execute_result"
    }
   ],
   "source": [
    "#ignored tickers\n",
    "ignored = stock_utils.get_ignored_symbols() or []\n",
    "','.join(ignored)"
   ]
  },
  {
   "cell_type": "code",
   "execution_count": 4,
   "metadata": {},
   "outputs": [
    {
     "name": "stdout",
     "output_type": "stream",
     "text": [
      "Total 499 filtered tickers\n"
     ]
    }
   ],
   "source": [
    "filtered_tickers = list(set(tickers) - set(ignored))\n",
    "print(f\"Total {len(filtered_tickers)} filtered tickers\")"
   ]
  },
  {
   "cell_type": "code",
   "execution_count": 5,
   "metadata": {},
   "outputs": [
    {
     "name": "stdout",
     "output_type": "stream",
     "text": [
      "- HDS: No data found for this date range, symbol may be delisted\n",
      "- RMG: No data found for this date range, symbol may be delisted\n",
      "- NTGN: No data found, symbol may be delisted\n"
     ]
    }
   ],
   "source": [
    "#Historical data for filtered tickers\n",
    "data = {}\n",
    "for t in filtered_tickers:\n",
    "    try:\n",
    "        s = yfinance.Ticker(t)\n",
    "        data[t] =  s.history(period='4d')\n",
    "        data[t].reset_index(inplace=True)\n",
    "        data[t].columns = data[t].columns.str.lower()\n",
    "        data[t] = data[t].iloc[::-1,:].reset_index(drop=True)\n",
    "    except :\n",
    "        print(t)"
   ]
  },
  {
   "cell_type": "code",
   "execution_count": 6,
   "metadata": {},
   "outputs": [
    {
     "name": "stdout",
     "output_type": "stream",
     "text": [
      "Open price must be between High and Low:\n",
      " High:39.189998626708984 => Open:39.22999954223633 >= Low:34.7599983215332\n",
      "Open price must be between High and Low:\n",
      " High:15.020000457763672 => Open:14.609999656677246 >= Low:14.619999885559082\n"
     ]
    },
    {
     "data": {
      "text/plain": [
       "'DRH,AQMS,SHLX,ED,CLBS,PRVL,SNAP,KDMN,AKBA,CXO,BK,AM,WATT,ADT,MCD,DARE,HD,FOLD,TOL,AVGR,CLVS,WELL,CHNG,IBM,DIS,GEVO,TMHC,GOOG,INVH,TJX,FAST,LEN,VISL,VTR,ATVI,DGLY,IVZ,NOV,VXRT,AMGN,DUK,FOXA,K,DELL,MBIO,ICLK,DVAX,FIS,SAVE,WY,CGIX,MARA,MPW,TMUS,INSG,GS,DT,HBI,KHC,LKQ,NEE,QCOM,ON,ALXN,CDEV,SWN,FCX,NDRA,D,KSS,ETSY,NCLH,PSEC,X,VST,IDEX,CI,WORK,JBLU,GLW,RESN,MSFT,NVAX,JWN,BRX,VICI,LTHM,AVTR,RCL,SBUX,MA,DAL,BCRX,LYFT,CRK,NIO,NWL,KOPN,JPM,CTSH,MIK,COST,LUV,PRTS,SIRI,TSN,FISV,PLD,DHI,AMAT,ADI,CFG,EXEL,WFC,EBAY,AMZN,ADMA,MO,WU,PM,MPC,AMC,VZ,BNGO,SPG,KIM,NEM,COCP,USB,OBLN,APPS,PK,NFLX,ACRS,DRE,WKHS,AAPL,FOX,AIV,CCL,FB,JNPR,INFI,ISBC,AEP,AXTA,ADBE,MAXR,WMT,BYND,TPH,TDOC,AMRS,TELL,COTY,MU,KDP,PINS,SFM,FE,MVIS,FNB,CYRX,EA,GIS,AQB,WYNN,V,MARK,VSTM,STCN,TWTR,BX,LOW,ORGO,RIOT,RRC,HAL,TSLA,CAG,FTI,LITE,GILD,ZM,ATUS,CRM,GNW,SRNE,IPG,COMM,HMHC,LPCN,MMM,CNK,EQR,ROKU,CXW,JCI,CLDR,UBER,SPPI,AR,M,VNO,CLNE,BE,BOXL,VUZI,GRTS,MOS,SEE,KBH,CNX,AHT,PHM,IZEA,SCHW,VLO,KR,NKE,STT,EQH,MS,HL,BLNK,ETRN,EQT'"
      ]
     },
     "execution_count": 6,
     "metadata": {},
     "output_type": "execute_result"
    }
   ],
   "source": [
    "patterns_list2 = []\n",
    "for key in data.keys():\n",
    "    if data[key].empty or len(data[key]) < 2:\n",
    "        continue\n",
    "    try:\n",
    "        bar1 = Bar(\n",
    "            data[key].loc[0, 'open'],\n",
    "            data[key].loc[0, 'high'],\n",
    "            data[key].loc[0, 'low'],\n",
    "            data[key].loc[0, 'close'],\n",
    "        )\n",
    "        bar2 = Bar(\n",
    "            data[key].loc[1, 'open'],\n",
    "            data[key].loc[1, 'high'],\n",
    "            data[key].loc[1, 'low'],\n",
    "            data[key].loc[1, 'close']\n",
    "        )\n",
    "        if bar1  <= bar2:\n",
    "            patterns_list2.append(key)\n",
    "    except ValueError as e:\n",
    "        print(e)\n",
    "    except Exception as e:\n",
    "        print(e)\n",
    "\n",
    "','.join(set(patterns_list2))"
   ]
  },
  {
   "cell_type": "code",
   "execution_count": 7,
   "metadata": {},
   "outputs": [
    {
     "name": "stdout",
     "output_type": "stream",
     "text": [
      "Open price must be between High and Low:\n",
      " High:39.189998626708984 => Open:39.22999954223633 >= Low:34.7599983215332\n",
      "Open price must be between High and Low:\n",
      " High:15.020000457763672 => Open:14.609999656677246 >= Low:14.619999885559082\n"
     ]
    },
    {
     "data": {
      "text/plain": [
       "'AQMS,SNAP,KDMN,DARE,AVGR,CLVS,WELL,CHNG,TJX,GEVO,VISL,ATVI,DGLY,VXRT,DUK,FOXA,K,ICLK,DVAX,TMUS,INSG,GS,HBI,KHC,LKQ,QCOM,CDEV,ETSY,PSEC,IDEX,JWN,AVTR,LYFT,JPM,MIK,COST,SIRI,WFC,EBAY,ADMA,PM,WU,MPC,AMC,BNGO,COCP,ACRS,FOX,CCL,FB,AEP,MAXR,BYND,COTY,MU,SFM,FE,EA,MARK,TWTR,LITE,GILD,ATUS,SRNE,COMM,HMHC,MMM,JCI,CLDR,M,VNO,BE,BOXL,SEE,CNX,IZEA,SCHW,KR,STT,EQT'"
      ]
     },
     "execution_count": 7,
     "metadata": {},
     "output_type": "execute_result"
    }
   ],
   "source": [
    "patterns_list = []\n",
    "for key in data.keys():\n",
    "    if data[key].empty or len(data[key]) < 3:\n",
    "        continue\n",
    "    try:\n",
    "        bar1 = Bar(\n",
    "            data[key].loc[0, 'open'],\n",
    "            data[key].loc[0, 'high'],\n",
    "            data[key].loc[0, 'low'],\n",
    "            data[key].loc[0, 'close'],\n",
    "        )\n",
    "        bar2 = Bar(\n",
    "            data[key].loc[1, 'open'],\n",
    "            data[key].loc[1, 'high'],\n",
    "            data[key].loc[1, 'low'],\n",
    "            data[key].loc[1, 'close'],\n",
    "        )\n",
    "        bar3 = Bar(\n",
    "            data[key].loc[2, 'open'],\n",
    "            data[key].loc[2, 'high'],\n",
    "            data[key].loc[2, 'low'],\n",
    "            data[key].loc[2, 'close'],\n",
    "        )\n",
    "        if bar1 <= bar2 <= bar3:\n",
    "            patterns_list.append(key)\n",
    "    except ValueError as e:\n",
    "        print(e)\n",
    "        \n",
    "','.join(set(patterns_list))"
   ]
  },
  {
   "cell_type": "code",
   "execution_count": 8,
   "metadata": {},
   "outputs": [
    {
     "name": "stdout",
     "output_type": "stream",
     "text": [
      "Open price must be between High and Low:\n",
      " High:39.189998626708984 => Open:39.22999954223633 >= Low:34.7599983215332\n",
      "Open price must be between High and Low:\n",
      " High:15.020000457763672 => Open:14.609999656677246 >= Low:14.619999885559082\n"
     ]
    },
    {
     "data": {
      "text/plain": [
       "'WELL,GEVO,VXRT,ICLK,HBI,STT,GILD,INSG,PSEC,ATUS'"
      ]
     },
     "execution_count": 8,
     "metadata": {},
     "output_type": "execute_result"
    }
   ],
   "source": [
    "patterns_list3 = []\n",
    "for key in data.keys():\n",
    "    if data[key].empty or len(data[key]) < 3:\n",
    "        continue\n",
    "    try:\n",
    "        bar1 = Bar(\n",
    "            data[key].loc[0, 'open'],\n",
    "            data[key].loc[0, 'high'],\n",
    "            data[key].loc[0, 'low'],\n",
    "            data[key].loc[0, 'close'],\n",
    "        )\n",
    "        bar2 = Bar(\n",
    "            data[key].loc[1, 'open'],\n",
    "            data[key].loc[1, 'high'],\n",
    "            data[key].loc[1, 'low'],\n",
    "            data[key].loc[1, 'close'],\n",
    "        )\n",
    "        bar3 = Bar(\n",
    "            data[key].loc[2, 'open'],\n",
    "            data[key].loc[2, 'high'],\n",
    "            data[key].loc[2, 'low'],\n",
    "            data[key].loc[2, 'close'],\n",
    "        )\n",
    "        if (bar3.range / bar2.range >= 1.7) and (bar2.range / bar1.range) >= 0.95:\n",
    "            patterns_list3.append(key)\n",
    "    except ValueError as e:\n",
    "        print(e)\n",
    "        \n",
    "','.join(patterns_list3)"
   ]
  },
  {
   "cell_type": "markdown",
   "metadata": {},
   "source": [
    "# HOMEWORK STOCKS"
   ]
  },
  {
   "cell_type": "code",
   "execution_count": 9,
   "metadata": {},
   "outputs": [
    {
     "data": {
      "text/plain": [
       "'DRH,AQMS,SHLX,ED,CLBS,PRVL,SNAP,KDMN,AKBA,CXO,BK,AM,WATT,DARE,ADT,MCD,HD,FOLD,TOL,AVGR,CLVS,WELL,CHNG,TJX,IBM,GEVO,TMHC,GOOG,DIS,INVH,FAST,LEN,VISL,VTR,ATVI,DGLY,IVZ,NOV,VXRT,AMGN,DUK,FOXA,K,DELL,MBIO,ICLK,DVAX,FIS,SAVE,WY,CGIX,MARA,MPW,TMUS,INSG,GS,DT,HBI,KHC,LKQ,NEE,QCOM,ON,ALXN,CDEV,SWN,FCX,NDRA,D,KSS,ETSY,NCLH,PSEC,X,VST,IDEX,CI,WORK,JBLU,GLW,RESN,MSFT,JWN,NVAX,BRX,VICI,LTHM,AVTR,RCL,SBUX,MA,DAL,BCRX,LYFT,CRK,NIO,NWL,KOPN,JPM,CTSH,MIK,COST,LUV,PRTS,SIRI,TSN,FISV,PLD,DHI,AMAT,ADI,CFG,EXEL,WFC,EBAY,ADMA,AMZN,PM,WU,MO,MPC,AMC,VZ,BNGO,SPG,KIM,NEM,COCP,USB,OBLN,APPS,PK,ACRS,NFLX,DRE,WKHS,AAPL,FOX,AIV,CCL,FB,JNPR,INFI,ISBC,AEP,MAXR,AXTA,ADBE,WMT,BYND,TPH,TDOC,AMRS,TELL,COTY,MU,KDP,PINS,SFM,FE,MVIS,FNB,CYRX,EA,GIS,AQB,WYNN,V,MARK,VSTM,STCN,TWTR,BX,LOW,ORGO,RIOT,RRC,HAL,TSLA,CAG,FTI,LITE,GILD,ZM,ATUS,CRM,GNW,SRNE,IPG,COMM,HMHC,LPCN,MMM,CNK,EQR,ROKU,CXW,JCI,CLDR,UBER,SPPI,AR,M,VNO,CLNE,BE,BOXL,VUZI,GRTS,SEE,MOS,KBH,CNX,AHT,PHM,IZEA,SCHW,KR,VLO,STT,NKE,EQH,MS,HL,BLNK,ETRN,EQT'"
      ]
     },
     "execution_count": 9,
     "metadata": {},
     "output_type": "execute_result"
    }
   ],
   "source": [
    "','.join(set(patterns_list+patterns_list2+patterns_list3))"
   ]
  },
  {
   "cell_type": "code",
   "execution_count": null,
   "metadata": {},
   "outputs": [],
   "source": []
  },
  {
   "cell_type": "code",
   "execution_count": 3,
   "metadata": {},
   "outputs": [],
   "source": [
    "# !pip install xgboost"
   ]
  },
  {
   "cell_type": "code",
   "execution_count": null,
   "metadata": {},
   "outputs": [],
   "source": []
  }
 ],
 "metadata": {
  "kernelspec": {
   "display_name": "Python 3",
   "language": "python",
   "name": "python3"
  },
  "language_info": {
   "codemirror_mode": {
    "name": "ipython",
    "version": 3
   },
   "file_extension": ".py",
   "mimetype": "text/x-python",
   "name": "python",
   "nbconvert_exporter": "python",
   "pygments_lexer": "ipython3",
   "version": "3.8.3"
  }
 },
 "nbformat": 4,
 "nbformat_minor": 4
}
