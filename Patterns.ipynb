{
 "cells": [
  {
   "cell_type": "code",
   "execution_count": 1,
   "metadata": {},
   "outputs": [],
   "source": [
    "import yfinance\n",
    "import stock_utils\n",
    "import pandas as pd\n",
    "import numpy as np\n",
    "\n",
    "from bar import Bar"
   ]
  },
  {
   "cell_type": "code",
   "execution_count": 2,
   "metadata": {},
   "outputs": [
    {
     "name": "stdout",
     "output_type": "stream",
     "text": [
      "Fetched 617 tickers\n"
     ]
    }
   ],
   "source": [
    "# fetching liquit tickers, vol > 2M\n",
    "tickers = stock_utils.fetch_liquid_stocks(vol=2_000_000, min_price=2)\n",
    "print(f\"Fetched {len(tickers)} tickers\")"
   ]
  },
  {
   "cell_type": "code",
   "execution_count": 3,
   "metadata": {},
   "outputs": [
    {
     "data": {
      "text/plain": [
       "'ACTT,AYR,AMTD,GDI,BPR,LPT,VSLR,ARQL,MDCO,MNTA,PEGI,STML,ERI,HABT,WLH,VTIQ,CY,CSFL,LVGO,CTL,APY,LM,UTX,ZAYO,CAR,MYL,NBL,RARX,AGN,GMHI,FSB,MYOK,AMAG,BWMC,ADSW,PKD,FMCI,AOBC,FII,TLRA,SNH,WBC,DERM,WTR,AVX,GRAF,FSCT,BOLD,HIIQ,IOTS,TRNE,EROS,DRAD,PDLI,GCAP,RUBI,CHK,PE,REAL,CXO'"
      ]
     },
     "execution_count": 3,
     "metadata": {},
     "output_type": "execute_result"
    }
   ],
   "source": [
    "#ignored tickers\n",
    "ignored = stock_utils.get_ignored_symbols() or []\n",
    "','.join(ignored)"
   ]
  },
  {
   "cell_type": "code",
   "execution_count": 4,
   "metadata": {},
   "outputs": [
    {
     "name": "stdout",
     "output_type": "stream",
     "text": [
      "Total 566 filtered tickers\n"
     ]
    }
   ],
   "source": [
    "filtered_tickers = list(set(tickers) - set(ignored))\n",
    "print(f\"Total {len(filtered_tickers)} filtered tickers\")"
   ]
  },
  {
   "cell_type": "code",
   "execution_count": 5,
   "metadata": {},
   "outputs": [
    {
     "name": "stdout",
     "output_type": "stream",
     "text": [
      "- HDS: No data found for this date range, symbol may be delisted\n",
      "- NTGN: No data found, symbol may be delisted\n",
      "- BDGE: No data found for this date range, symbol may be delisted\n",
      "- RMG: No data found for this date range, symbol may be delisted\n"
     ]
    }
   ],
   "source": [
    "#Historical data for filtered tickers\n",
    "data = {}\n",
    "for t in filtered_tickers:\n",
    "    try:\n",
    "        s = yfinance.Ticker(t)\n",
    "        data[t] =  s.history(period='4d')\n",
    "        data[t].reset_index(inplace=True)\n",
    "        data[t].columns = data[t].columns.str.lower()\n",
    "        data[t] = data[t].iloc[::-1,:].reset_index(drop=True)\n",
    "    except :\n",
    "        print(t)"
   ]
  },
  {
   "cell_type": "code",
   "execution_count": 6,
   "metadata": {},
   "outputs": [
    {
     "name": "stdout",
     "output_type": "stream",
     "text": [
      "Open price must be between High and Low:\n",
      " High:30.770000457763672 => Open:29.040000915527344 >= Low:29.110000610351562\n",
      "Open price must be between High and Low:\n",
      " High:31.760000228881836 => Open:30.78849983215332 >= Low:30.860000610351562\n",
      "Open price must be between High and Low:\n",
      " High:103.7300033569336 => Open:100.20999908447266 >= Low:100.2300033569336\n",
      "Open price must be between High and Low:\n",
      " High:14.760000228881836 => Open:14.164999961853027 >= Low:14.1899995803833\n",
      "Open price must be between High and Low:\n",
      " High:139.75999450683594 => Open:137.75 >= Low:137.80999755859375\n",
      "Open price must be between High and Low:\n",
      " High:14.5600004196167 => Open:14.579999923706055 >= Low:12.149999618530273\n"
     ]
    },
    {
     "data": {
      "text/plain": [
       "'AMC,TGI,ENLC,PSEC,MBRX,THCB,BE,LVS,ACTG,ADBE,WELL,INSG,MGY,SSYS,DVN,DT,NBEV,SRNE,Z,USFD,VRTX,EGHT,QEP,PACB,BA,TXN,EXPE,AHT,MPC,BWA,TYME,JAGX,PG,MO,BX,AMD,CNC,MUR,LLNW,FIS,MIK,IVR,MSFT,FSLY,DKS,XEL,EMR,TWO,BNGO,JNPR,DAL,PLD,CNK,NVTA,GEO,CNP,CNX,BLNK,HAL,CLNE,BGCP,PBF,POLA,NVDA,PLNT,PAA,TSLA,WORK,KERN,HES,IZEA,DRRX,EPD,CDEV,WBA,SABR,CCC,MMP,DBX,AQUA,SONO,WY,DDD,QRVO,SWN,PEI,IPG,KOS,NVAX,MTCH,PEIX,NIO,PFE,AMZN,WDC,FE,CVS,AM,CLVS,CCL,AMGN,CL,CPB,ISBC,KNX,VLO,WTRH,CPE,VXRT,PK,TIGR,UPS,CVX,COP,ZYNE,VTNR,SEEL,IVZ,IEA,KR,SLB,OVID,GT,ATUS,BLMN,SCHW,ARMK,KO,MRNA,MU,ALNA,MNKD,FB,ELAN,FTV,F,CRMD,FOLD,PCAR,NLSN,CRM,SQ,RIGL,TMO,NCLH,EVFM,SLM,AA,LC,LOW,AMRS,SKT,KMI,XELA,UAL,AQB,DARE,EXPR,ALXN,COTY,KODK,CRBP,COG,NWL,MARK,MXIM,LITE,X,GSM,UA,OSTK,SYY,SUNW,SIRI,PAGP,FTI,GRUB,DAN,HFC,BDN,MPLX,AGNC,SPR,M,FANG,SLS,ZM,CAG,ADI,AIV,GLUU,PLUG,HRL,TTI,SINO,ACRX,NLY,CAT,NOV,MRO,BAC,VST,GM,HCA,DHR,PSTG,FCX,CRK,SNAP,FCEL,OPTT,EQT,FEYE,HYRE,PHUN,AAL,WMB,CHWY,UAA,VTR,ICLK,HMHC,TMUS,HOG,CCI,JEF,PPL,WFC,ETRN,ALB,HPE,LXRX,ADT,MOS,GEVO,AQMS,XOM,EA,NUAN,VICI,GIS,APA,OXY,CCX,VISL,PINS,BEN,BOXL,KDP,ALRN,ADMA,EOG,INFN,BCRX,SELB,C,TAL,GLW,ABEO,RRC,K'"
      ]
     },
     "execution_count": 6,
     "metadata": {},
     "output_type": "execute_result"
    }
   ],
   "source": [
    "patterns_list2 = []\n",
    "for key in data.keys():\n",
    "    if data[key].empty or len(data[key]) < 2:\n",
    "        continue\n",
    "    try:\n",
    "        bar1 = Bar(\n",
    "            data[key].loc[0, 'open'],\n",
    "            data[key].loc[0, 'high'],\n",
    "            data[key].loc[0, 'low'],\n",
    "            data[key].loc[0, 'close'],\n",
    "        )\n",
    "        bar2 = Bar(\n",
    "            data[key].loc[1, 'open'],\n",
    "            data[key].loc[1, 'high'],\n",
    "            data[key].loc[1, 'low'],\n",
    "            data[key].loc[1, 'close']\n",
    "        )\n",
    "        if bar1  <= bar2:\n",
    "            patterns_list2.append(key)\n",
    "    except ValueError as e:\n",
    "        print(e)\n",
    "    except Exception as e:\n",
    "        print(e)\n",
    "\n",
    "','.join(set(patterns_list2))"
   ]
  },
  {
   "cell_type": "code",
   "execution_count": 7,
   "metadata": {},
   "outputs": [
    {
     "name": "stdout",
     "output_type": "stream",
     "text": [
      "Open price must be between High and Low:\n",
      " High:30.770000457763672 => Open:29.040000915527344 >= Low:29.110000610351562\n",
      "Open price must be between High and Low:\n",
      " High:31.760000228881836 => Open:30.78849983215332 >= Low:30.860000610351562\n",
      "Open price must be between High and Low:\n",
      " High:103.7300033569336 => Open:100.20999908447266 >= Low:100.2300033569336\n",
      "Open price must be between High and Low:\n",
      " High:14.760000228881836 => Open:14.164999961853027 >= Low:14.1899995803833\n",
      "Open price must be between High and Low:\n",
      " High:139.75999450683594 => Open:137.75 >= Low:137.80999755859375\n",
      "Open price must be between High and Low:\n",
      " High:14.5600004196167 => Open:14.579999923706055 >= Low:12.149999618530273\n"
     ]
    },
    {
     "data": {
      "text/plain": [
       "'AMC,PSEC,MBRX,THCB,ADBE,LVS,INSG,SRNE,Z,VRTX,EGHT,EXPE,MPC,MO,JAGX,PG,AMD,CNC,LLNW,FIS,MIK,FSLY,DKS,XEL,EMR,TWO,BNGO,JNPR,CNK,BLNK,PAA,PLNT,TSLA,WORK,KERN,DRRX,CDEV,WBA,MMP,QRVO,SWN,PFE,FE,WDC,CL,CLVS,VXRT,UPS,GT,KO,FB,ELAN,FTV,CRMD,FOLD,NLSN,CRM,SLM,KMI,LOW,SKT,AQB,EXPR,ALXN,CRBP,NWL,LITE,X,GSM,SIRI,PAGP,MPLX,SPR,CAG,AIV,GLUU,HRL,TTI,NLY,ACRX,CAT,MRO,FCX,CRK,FCEL,EQT,PHUN,WMB,HOG,TMUS,PPL,ETRN,LXRX,MOS,NUAN,VICI,BEN,ALRN,INFN,BCRX,TAL,K'"
      ]
     },
     "execution_count": 7,
     "metadata": {},
     "output_type": "execute_result"
    }
   ],
   "source": [
    "patterns_list = []\n",
    "for key in data.keys():\n",
    "    if data[key].empty or len(data[key]) < 3:\n",
    "        continue\n",
    "    try:\n",
    "        bar1 = Bar(\n",
    "            data[key].loc[0, 'open'],\n",
    "            data[key].loc[0, 'high'],\n",
    "            data[key].loc[0, 'low'],\n",
    "            data[key].loc[0, 'close'],\n",
    "        )\n",
    "        bar2 = Bar(\n",
    "            data[key].loc[1, 'open'],\n",
    "            data[key].loc[1, 'high'],\n",
    "            data[key].loc[1, 'low'],\n",
    "            data[key].loc[1, 'close'],\n",
    "        )\n",
    "        bar3 = Bar(\n",
    "            data[key].loc[2, 'open'],\n",
    "            data[key].loc[2, 'high'],\n",
    "            data[key].loc[2, 'low'],\n",
    "            data[key].loc[2, 'close'],\n",
    "        )\n",
    "        if bar1 <= bar2 <= bar3:\n",
    "            patterns_list.append(key)\n",
    "    except ValueError as e:\n",
    "        print(e)\n",
    "        \n",
    "','.join(set(patterns_list))"
   ]
  },
  {
   "cell_type": "code",
   "execution_count": 8,
   "metadata": {},
   "outputs": [
    {
     "name": "stdout",
     "output_type": "stream",
     "text": [
      "Open price must be between High and Low:\n",
      " High:30.770000457763672 => Open:29.040000915527344 >= Low:29.110000610351562\n",
      "Open price must be between High and Low:\n",
      " High:31.760000228881836 => Open:30.78849983215332 >= Low:30.860000610351562\n",
      "Open price must be between High and Low:\n",
      " High:103.7300033569336 => Open:100.20999908447266 >= Low:100.2300033569336\n",
      "Open price must be between High and Low:\n",
      " High:14.760000228881836 => Open:14.164999961853027 >= Low:14.1899995803833\n",
      "Open price must be between High and Low:\n",
      " High:139.75999450683594 => Open:137.75 >= Low:137.80999755859375\n",
      "Open price must be between High and Low:\n",
      " High:14.5600004196167 => Open:14.579999923706055 >= Low:12.149999618530273\n"
     ]
    },
    {
     "data": {
      "text/plain": [
       "'VBIV,EXPE,VXRT,EXPR,NWL,LITE,SIRI,PHUN,BEN,TAL,ABT,PFE,KO,GSM,NEE,AMC,IRM,FOLD,CAT,OPK,HOG,MBRX,BNGO,GPK,CRBP,HRL,BCRX'"
      ]
     },
     "execution_count": 8,
     "metadata": {},
     "output_type": "execute_result"
    }
   ],
   "source": [
    "patterns_list3 = []\n",
    "for key in data.keys():\n",
    "    if data[key].empty or len(data[key]) < 3:\n",
    "        continue\n",
    "    try:\n",
    "        bar1 = Bar(\n",
    "            data[key].loc[0, 'open'],\n",
    "            data[key].loc[0, 'high'],\n",
    "            data[key].loc[0, 'low'],\n",
    "            data[key].loc[0, 'close'],\n",
    "        )\n",
    "        bar2 = Bar(\n",
    "            data[key].loc[1, 'open'],\n",
    "            data[key].loc[1, 'high'],\n",
    "            data[key].loc[1, 'low'],\n",
    "            data[key].loc[1, 'close'],\n",
    "        )\n",
    "        bar3 = Bar(\n",
    "            data[key].loc[2, 'open'],\n",
    "            data[key].loc[2, 'high'],\n",
    "            data[key].loc[2, 'low'],\n",
    "            data[key].loc[2, 'close'],\n",
    "        )\n",
    "        if (bar3.range / bar2.range >= 1.7) and (bar2.range / bar1.range) >= 0.95:\n",
    "            patterns_list3.append(key)\n",
    "    except ValueError as e:\n",
    "        print(e)\n",
    "        \n",
    "','.join(patterns_list3)"
   ]
  },
  {
   "cell_type": "markdown",
   "metadata": {},
   "source": [
    "# HOMEWORK STOCKS"
   ]
  },
  {
   "cell_type": "code",
   "execution_count": 9,
   "metadata": {},
   "outputs": [
    {
     "data": {
      "text/plain": [
       "'AMC,TGI,ENLC,PSEC,MBRX,THCB,ADBE,LVS,BE,ACTG,WELL,INSG,MGY,SSYS,DVN,DT,NBEV,VBIV,SRNE,Z,USFD,VRTX,EGHT,QEP,PACB,BA,TXN,EXPE,MPC,AHT,BWA,MO,JAGX,PG,AMD,BX,TYME,CNC,MUR,LLNW,FIS,MIK,IVR,FSLY,DKS,MSFT,XEL,EMR,TWO,BNGO,JNPR,DAL,PLD,CNK,NVTA,GEO,CNP,CNX,BLNK,HAL,IRM,CLNE,BGCP,PBF,POLA,NVDA,PAA,PLNT,TSLA,WORK,KERN,ABT,HES,IZEA,DRRX,EPD,CDEV,WBA,SABR,MMP,CCC,DBX,AQUA,SONO,WY,DDD,QRVO,SWN,PEI,IPG,KOS,NVAX,MTCH,PFE,PEIX,NIO,FE,WDC,CL,CLVS,AMZN,CVS,AM,CCL,AMGN,CPB,ISBC,KNX,VLO,WTRH,CPE,VXRT,PK,TIGR,UPS,CVX,COP,ZYNE,VTNR,SEEL,IVZ,IEA,KR,SLB,GT,OVID,ATUS,BLMN,SCHW,ARMK,KO,MRNA,MU,ALNA,GPK,FB,MNKD,ELAN,FTV,F,CRMD,FOLD,PCAR,NLSN,CRM,SQ,RIGL,TMO,NCLH,EVFM,SLM,KMI,AA,LOW,LC,SKT,AMRS,XELA,UAL,AQB,DARE,EXPR,ALXN,COTY,KODK,CRBP,NWL,COG,MARK,MXIM,LITE,X,GSM,UA,OSTK,SYY,SUNW,SIRI,PAGP,FTI,GRUB,DAN,HFC,BDN,MPLX,SPR,AGNC,M,FANG,SLS,ZM,CAG,ADI,NEE,AIV,GLUU,HRL,PLUG,TTI,NLY,ACRX,SINO,CAT,MRO,NOV,BAC,VST,GM,HCA,DHR,PSTG,FCX,CRK,SNAP,FCEL,OPTT,OPK,EQT,FEYE,HYRE,PHUN,AAL,WMB,CHWY,UAA,VTR,ICLK,HOG,TMUS,HMHC,CCI,JEF,PPL,WFC,ETRN,LXRX,ALB,HPE,MOS,ADT,GEVO,AQMS,XOM,EA,NUAN,VICI,GIS,APA,OXY,CCX,VISL,PINS,BEN,BOXL,ALRN,KDP,ADMA,EOG,INFN,BCRX,SELB,C,TAL,GLW,ABEO,RRC,K'"
      ]
     },
     "execution_count": 9,
     "metadata": {},
     "output_type": "execute_result"
    }
   ],
   "source": [
    "','.join(set(patterns_list+patterns_list2+patterns_list3))"
   ]
  },
  {
   "cell_type": "code",
   "execution_count": null,
   "metadata": {},
   "outputs": [],
   "source": []
  }
 ],
 "metadata": {
  "kernelspec": {
   "display_name": "Python 3",
   "language": "python",
   "name": "python3"
  },
  "language_info": {
   "codemirror_mode": {
    "name": "ipython",
    "version": 3
   },
   "file_extension": ".py",
   "mimetype": "text/x-python",
   "name": "python",
   "nbconvert_exporter": "python",
   "pygments_lexer": "ipython3",
   "version": "3.8.3"
  }
 },
 "nbformat": 4,
 "nbformat_minor": 4
}
